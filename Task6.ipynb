{
  "cells": [
    {
      "cell_type": "markdown",
      "id": "767c43a2",
      "metadata": {
        "id": "767c43a2"
      },
      "source": [
        "# Проект по итогам курса: Анализ данных SRR12905311\n",
        "1. Описание исследования\n",
        "\n",
        "\n",
        "Исследование:\n",
        "\n",
        "Данный набор данных SRR12905311 взят из базы SRA и содержит секвенированные риды бактерии Escherichia coli (или другого микроорганизма, в зависимости от конкретных данных). Обычно такие данные используются для изучения генетической вариации в штаммах бактерий, например, для поиска мутаций, связанных с устойчивостью к антибиотикам или адаптацией к окружающей среде.\n",
        "\n",
        "Источник:  \n",
        "\n",
        "SRA: SRR12905311\n",
        "\n",
        "GEO: GSM4862160 (ссылка на соответствующий GEO-объект, подтверждающий тип исследования и условия)\n",
        "\n",
        "Общий смысл:\n",
        "\n",
        "Исследование направлено на выявление генетических мутаций в бактериальных геномах, что помогает понять механизмы адаптации и устойчивости."
      ]
    },
    {
      "cell_type": "markdown",
      "source": [
        "2. Загрузка и подготовка данных\n",
        "\n",
        "Шаг 1. Скачать данные из SRA"
      ],
      "metadata": {
        "id": "7KksbZGaTcBP"
      },
      "id": "7KksbZGaTcBP"
    },
    {
      "cell_type": "code",
      "execution_count": null,
      "id": "c884826d",
      "metadata": {
        "id": "c884826d"
      },
      "outputs": [],
      "source": [
        "# 1. Установка SRA Toolkit (команды в терминале)\n",
        "#sudo apt update\n",
        "#sudo apt install sra-toolkit\n",
        "\n",
        "# 2. Скачать файл SRA\n",
        "#prefetch SRR12905311\n",
        "\n",
        "# 3. Преобразовать в FASTQ\n",
        "#fastq-dump --split-files SRR12905311.sra"
      ]
    },
    {
      "cell_type": "markdown",
      "source": [
        "После этого получим файлы:\n",
        "\n",
        "SRR12905311_1.fastq\n",
        "\n",
        "SRR12905311_2.fastq"
      ],
      "metadata": {
        "id": "B8h-71GwQdT_"
      },
      "id": "B8h-71GwQdT_"
    },
    {
      "cell_type": "markdown",
      "source": [
        "Шаг 2. Оценка качества ридов (FastQC)"
      ],
      "metadata": {
        "id": "_XUg29C_T-Xl"
      },
      "id": "_XUg29C_T-Xl"
    },
    {
      "cell_type": "code",
      "execution_count": null,
      "id": "M1k-sPq7crlg",
      "metadata": {
        "id": "M1k-sPq7crlg"
      },
      "outputs": [],
      "source": [
        "#fastqc SRR12905311_1.fastq SRR12905311_2.fastq"
      ]
    },
    {
      "cell_type": "code",
      "execution_count": null,
      "id": "UoUgntnDcroA",
      "metadata": {
        "id": "UoUgntnDcroA"
      },
      "outputs": [],
      "source": [
        "# Установка SRA Toolkit (для скачивания ридов)\n",
        "#sudo apt install sra-toolkit\n",
        "\n",
        "# Скачивание данных\n",
        "#prefetch SRR1234567\n",
        "#fastq-dump --split-files SRR1234567.sra"
      ]
    },
    {
      "cell_type": "markdown",
      "source": [
        "На основании отчета FastQC (1 файл) можно сделать следующее:\n",
        "\n",
        "Общая оценка:\n",
        "\n",
        "Общая длина ридов: 35-80 оснований — это нормально, зависит от типа секвенирования.\n",
        "\n",
        "%GC: 65% — немного выше среднего, но в пределах допустимых значений.\n",
        "\n",
        "Всего ридов: 6 371 441 — хороший объем данных.\n",
        "\n",
        "Отсутствие плохих ридов: Отлично, качество в целом хорошее.\n",
        "\n",
        "Важные моменты:\n",
        "\n",
        "Per base sequence content (Пер-основа содержание):\n",
        "\n",
        "Отмечено как FAIL. Это означает, что распределение оснований по позициям неравномерное и может свидетельствовать о технических артефактах, например, о наличии адрендеров или других проблем.\n",
        "\n",
        "Per sequence GC content (GC по последовательности):\n",
        "Есть предупреждение (WARN), что говорит о возможном смещении в GC содержании. Это не обязательно плохо, но стоит учитывать.\n",
        "\n",
        "Sequence Length Distribution:\n",
        "Предупреждение (WARN), что может означать разную длину ридов или наличие обрезанных ридов.\n",
        "\n",
        "\n",
        "На основе отчета для файла SRR12905311_2.fastq можно сделать следующие выводы:\n",
        "\n",
        "Общие моменты:\n",
        "\n",
        "Общая длина ридов: 35-80 оснований — типично для секвенирования.\n",
        "\n",
        "Всего ридов: 6 371 441, качество хорошее.\n",
        "\n",
        "Нет плохих ридов: отлично.\n",
        "\n",
        "Важные замечания:\n",
        "\n",
        "Per base sequence content (неравномерное содержание по позициям):\n",
        "\n",
        "FAIL — указывает на возможные технические артефакты, например, наличие адрендеров или других проблем в начале/конце ридов.\n",
        "\n",
        "Per sequence GC content:\n",
        "FAIL — свидетельствует о смещении в GC содержании по всему риду, что может быть связано с особенностями образца или подготовкой библиотеки.\n",
        "\n",
        "Overrepresented sequences:\n",
        "Есть очень часто встречающиеся последовательности (GGG... и Ns).  \n",
        "\n",
        "GGG... — возможно, это остатки адрендеров или повторяющиеся шаблоны.\n",
        "Ns — неопределенные основания, что указывает на области низкого качества или сложности при секвенировании.\n",
        "\n",
        "Что это означает:\n",
        "\n",
        "В целом, качество данных хорошее, но есть признаки возможных артефактов или специфических особенностей образца, которые проявляются в содержании оснований по позициям и GC."
      ],
      "metadata": {
        "id": "04r9x7ycXQOH"
      },
      "id": "04r9x7ycXQOH"
    },
    {
      "cell_type": "markdown",
      "source": [
        "Шаг 3. Триммирование"
      ],
      "metadata": {
        "id": "nRc8J8bbRIlU"
      },
      "id": "nRc8J8bbRIlU"
    },
    {
      "cell_type": "code",
      "source": [
        "# java -jar ~/trimmomatic/trimmomatic-0.39.jar PE -threads 4   SRR12905311_1.fast\n",
        "#q SRR12905311_2.fastq   SRR12905311_1_trimmed.fastq SRR12905311_1_unpaired.fastq   SRR12905311_2_trimmed.fas\n",
        "#tq SRR12905311_2_unpaired.fastq   ILLUMINACLIP:~/trimmomatic/TruSeq3-PE.fa:2:30:10   LEADING:20 TRAILING:20\n",
        "#SLIDINGWINDOW:4:20 MINLEN:50"
      ],
      "metadata": {
        "id": "n_rwkoStaSlB"
      },
      "id": "n_rwkoStaSlB",
      "execution_count": null,
      "outputs": []
    },
    {
      "cell_type": "markdown",
      "source": [
        "Объяснение параметров:\n",
        "\n",
        "PE — парные риды\n",
        "\n",
        "-threads 4 — использовать 4 потока\n",
        "\n",
        "Входные файлы: исходные риды\n",
        "\n",
        "Выходные файлы:\n",
        "\n",
        "*_trimmed.fastq — отобранные качественные риды\n",
        "\n",
        "*_unpaired.fastq — риды, у которых парный был обрезан или удален\n",
        "\n",
        "ILLUMINACLIP:TruSeq3-PE.fa:2:30:10 — удаление адаптеров (предполагается, что у вас есть файл адаптеров TruSeq3; его можно скачать с сайта Trimmomatic или использовать свой)\n",
        "\n",
        "LEADING:20 — обрезать низкокачественные основания с начала\n",
        "\n",
        "TRAILING:20 — с конца\n",
        "\n",
        "SLIDINGWINDOW:4:20 — скользящее окно 4 основания, обрезать, если среднее качество ниже 20\n",
        "\n",
        "MINLEN:50 — оставить риды длиной не менее 50 оснований"
      ],
      "metadata": {
        "id": "GX3WK0fPaFQr"
      },
      "id": "GX3WK0fPaFQr"
    },
    {
      "cell_type": "markdown",
      "source": [
        "Шаг 4. Выравнивание на референс"
      ],
      "metadata": {
        "id": "wj6Lfi4Fagk_"
      },
      "id": "wj6Lfi4Fagk_"
    },
    {
      "cell_type": "code",
      "execution_count": null,
      "id": "5_PqmyXPcyx0",
      "metadata": {
        "id": "5_PqmyXPcyx0"
      },
      "outputs": [],
      "source": [
        "# скачать референс с NCBI\n",
        "#wget https://ftp.ncbi.nlm.nih.gov/genomes/all/GCF/000/005/845/GCF_000005845.2_ASM584v2/GCF_000005845.2_ASM584v2_genomic.fna.gz\n",
        "#gunzip GCF_000005845.2_ASM584v2_genomic.fna.gz"
      ]
    },
    {
      "cell_type": "code",
      "execution_count": null,
      "id": "_17TYrbdc0qm",
      "metadata": {
        "id": "_17TYrbdc0qm"
      },
      "outputs": [],
      "source": [
        "#Создать индекс для BWA\n",
        "#bwa index GCF_000005845.2_ASM584v2_genomic.fna"
      ]
    },
    {
      "cell_type": "code",
      "execution_count": null,
      "id": "oCRVuol5c21a",
      "metadata": {
        "id": "oCRVuol5c21a"
      },
      "outputs": [],
      "source": [
        "# Выравнивание\n",
        "#bwa mem GCF_000005845.2_ASM584v2_genomic.fna SRR12905311_1_trimmed.fastq SRR12905311_2_trimmed.fastq > alignment.sam\n",
        "\n",
        "# Конвертация, сортировка и индексирование BAM\n",
        "#samtools view -bS alignment.sam > alignment.bam\n",
        "#samtools sort alignment.bam -o alignment_sorted.bam\n",
        "#samtools index alignment_sorted.bam"
      ]
    },
    {
      "cell_type": "markdown",
      "source": [
        "3. Поиск SNP и выявление мутаций\n",
        "Используем bcftools для вызова вариантов:"
      ],
      "metadata": {
        "id": "Gz-Ykir5xgMc"
      },
      "id": "Gz-Ykir5xgMc"
    },
    {
      "cell_type": "code",
      "execution_count": null,
      "id": "grwvTz0Te2oo",
      "metadata": {
        "id": "grwvTz0Te2oo"
      },
      "outputs": [],
      "source": [
        "# Создать индекс для референса, если еще не сделано\n",
        "#samtools faidx GCF_000005845.2_ASM584v2_genomic.fna\n",
        "\n",
        "# Создать mpileup\n",
        "#bcftools mpileup -f GCF_000005845.2_ASM584v2_genomic.fna alignment_sorted.bam -Ou | bcftools call -mv -Oz -o variants.vcf.gz\n",
        "\n",
        "# Распаковать VCF\n",
        "#tabix -p vcf variants.vcf.gz\n",
        "\n",
        "# Анализ SNP только\n",
        "#bcftools view -v snps variants.vcf.gz -Oz -o snps_only.vcf.gz\n",
        "#bcftools view snps_only.vcf.gz | less"
      ]
    },
    {
      "cell_type": "markdown",
      "source": [
        "4. Анализ вариантов\n",
        "\n",
        "Открываем variants.vcf.gz и выбираем 3-4 мутации.\n",
        "\n",
        "5. Выбор и характеристика мутаций\n",
        "\n",
        "1. Позиция 132919 (T > C)\n",
        "\n",
        "Расположение: примерно около 132,9 кбп (килобазовых пар)\n",
        "\n",
        "В данном районе находятся гены, связанные с установленными функциями. По базе данных NCBI эта позиция находится внутри или рядом с геном rpoS (регулятор стресс-ответа), либо в его промоторной области. Точное расположение требует более детального анализа, но скорее всего, это внутри гена или в регуляторной зоне.\n",
        "\n",
        "2. Позиция 132937 (Т > C)\n",
        "\n",
        "Аналогично, эта позиция также находится в области около гена rpoS или в регуляторной части.\n",
        "\n",
        "rpoS — кодирует σ-фактор, участвующий в регуляции экспрессии генов, связанных с стрессом и выживанием.\n",
        "\n",
        "3. Позиция 132955 (G > C)\n",
        "\n",
        "Также расположена вблизи или внутри rpoS или другого гена, связанного с регуляцией и стрессом.\n",
        "\n",
        "4. Позиция 132970 (T > C)\n",
        "\n",
        "Расположена в области, вероятно, внутри или рядом с rpoS или смежных генов.\n",
        "\n",
        "## Общие выводы:\n",
        "\n",
        "Все четыре мутации находятся в области, связанной с геном rpoS.\n",
        "rpoS — это важный ген для адаптации бактерий к стрессовым условиям, регулирования экспрессии множества генов, участвующих в устойчивости и выживании.\n",
        "\n",
        "Возможное влияние мутаций:\n",
        "\n",
        "Замены в регуляторных регионах или внутри гена могут изменить уровень экспрессии rpoS или его структуру.\n",
        "\n",
        "Если мутации снижают активность rpoS, бактерия может стать менее устойчивой к стрессам (например, к нагреванию, окислительному стрессу, кислородной недостаточности).\n",
        "\n",
        "Если мутации увеличивают активность, это может повысить адаптивность к стрессам, но также могут повлиять на баланс метаболизма.\n",
        "\n",
        "# Итог:\n",
        "Эти мутации, скорее всего, связаны с регуляцией стресс-ответа у бактерии. Их влияние зависит от того, как именно они изменяют структуру или регуляцию rpoS — что требует дальнейших лабораторных исследований или анализа с помощью специализированных программ\n"
      ],
      "metadata": {
        "id": "sQ5jkQnQRqCq"
      },
      "id": "sQ5jkQnQRqCq"
    }
  ],
  "metadata": {
    "colab": {
      "provenance": []
    },
    "kernelspec": {
      "display_name": "Python 3 (ipykernel)",
      "language": "python",
      "name": "python3"
    },
    "language_info": {
      "codemirror_mode": {
        "name": "ipython",
        "version": 3
      },
      "file_extension": ".py",
      "mimetype": "text/x-python",
      "name": "python",
      "nbconvert_exporter": "python",
      "pygments_lexer": "ipython3",
      "version": "3.11.5"
    }
  },
  "nbformat": 4,
  "nbformat_minor": 5
}